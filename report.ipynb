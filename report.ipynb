{
 "cells": [
  {
   "cell_type": "markdown",
   "metadata": {},
   "source": [
    "### The objective of the current assignment is to analyze the density of the clusters and subsequently identify suspicious taxpayers."
   ]
  },
  {
   "cell_type": "markdown",
   "metadata": {},
   "source": [
    "#### Data Analysis"
   ]
  },
  {
   "cell_type": "markdown",
   "metadata": {},
   "source": [
    "* We started off by analyzing the dataset and found that there was a very high correlation among some of the columns.\n",
    "* So we took the first 1000 data points and found the Eigenvalues of the covariance matrix to see how many features are actually necessary.\n",
    "* Note that I removed month and attributes with total_(\\*some feature\\*) because they are just the sum of some columns and they don't add anything to the data.\n",
    "<br>\n",
    "\n",
    "![](./images/code_eigv.png)\n",
    "\n",
    "Then I calculated the eigenvalues for the covariance matrix.\n",
    "![](./images/eigv.png)\n",
    "* As we can see from the above image, the first 2 Eigenvalues are insignificant in comparision to the other ones. So there is a correlation among the columns.\n",
    "* We also tried to be as generous as possible and not remove the Eigenvales of orders of 10^10 and 10^12 to not loose data since the variance is still high.\n",
    "* So we left the first three attributes as it is.\n"
   ]
  },
  {
   "cell_type": "markdown",
   "metadata": {},
   "source": [
    "#### Clustering"
   ]
  },
  {
   "cell_type": "markdown",
   "metadata": {},
   "source": [
    "##### K-Means"
   ]
  },
  {
   "cell_type": "markdown",
   "metadata": {},
   "source": [
    "* To get an idea of what we are dealing with, we performed vanilla kmeans first and examined the clusters and their densities.\n",
    "<br>\n",
    "\n",
    "![](./images/code_kmeans.png)\n",
    "\n",
    "* We then tried clustering for n_clusters varying from 2 to 19 and analyzed the sizes of the clusters.\n",
    "<br>\n",
    "\n",
    "![](./images/kmeans.png)\n",
    "\n",
    "* We then found out that no matter how big the number of clusters is, there is always one huge cluster which takes up most of the points.\n",
    "* That cluster is the first cluster in the above image. \n",
    "* Arrays generated contains the (cluster_number, cluster_size) pairs and we can see that the first one always has a lot of points.\n",
    "* This is consistent with what we'd expect because fraud is assumed to be rare and this cluster might represent the genuine set of taxpayers.\n",
    "* KMeans itself performs well here and Spectral Clustering which again uses kmeans but with a twist might end up giving similar results."
   ]
  },
  {
   "cell_type": "markdown",
   "metadata": {},
   "source": [
    "##### Spectral Clustering"
   ]
  },
  {
   "cell_type": "markdown",
   "metadata": {},
   "source": [
    "* Just sending the data to Spectral Clustering gives a graph which is not fully connected.\n",
    "* This happens because when we use the rbf kernel, the distance values become large and the values become zeros.\n",
    "* This creates a graph that will not work for spectral clustering.\n",
    "* To avoid this problem, I used minmax normalization on the columns.\n",
    "<br>\n",
    "\n",
    "![](./images/code_minmax.png)\n",
    "<br>\n",
    "\n",
    "* We then tried various number of clusters and set a parameter called threshold on the cluster density to regulate the number of frauds.\n",
    "* We also plotted the number of frauds vs the number of clusters.\n",
    "<br>\n",
    "\n",
    "![](./images/code_sc.png)"
   ]
  },
  {
   "cell_type": "markdown",
   "metadata": {},
   "source": [
    "#### Clusters vs frauds"
   ]
  },
  {
   "cell_type": "markdown",
   "metadata": {},
   "source": [
    "![](./images/plot.png)\n",
    "\n",
    "* 14 was found to be the optimal cluster size with most number of frauds detected.\n",
    "* In total 201 frauds were found, which are written in the results.txt file."
   ]
  }
 ],
 "metadata": {
  "kernelspec": {
   "display_name": "Python 3",
   "language": "python",
   "name": "python3"
  },
  "language_info": {
   "codemirror_mode": {
    "name": "ipython",
    "version": 3
   },
   "file_extension": ".py",
   "mimetype": "text/x-python",
   "name": "python",
   "nbconvert_exporter": "python",
   "pygments_lexer": "ipython3",
   "version": "3.7.4"
  }
 },
 "nbformat": 4,
 "nbformat_minor": 2
}
