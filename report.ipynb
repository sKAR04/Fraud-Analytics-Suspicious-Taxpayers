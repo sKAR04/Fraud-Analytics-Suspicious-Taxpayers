{
 "cells": [
  {
   "cell_type": "markdown",
   "metadata": {},
   "source": [
    "### The objective of the current assignment is to analyze the density of the clusters and subsequently identify suspicious taxpayers."
   ]
  },
  {
   "cell_type": "markdown",
   "metadata": {},
   "source": [
    "#### Data Analysis"
   ]
  },
  {
   "cell_type": "markdown",
   "metadata": {},
   "source": [
    "* We started off by analyzing the dataset and found that there was a very high correlation among some of the columns.\n",
    "* So we took the first 1000 data points and found the Eigenvalues of the covariance matrix to see how many features are actually necessary.\n",
    "* Note that I removed month and attributes with total_(\\*some feature\\*) because they are just the sum of some columns and they don't add anything to the data.\n",
    "<br>\n",
    "\n",
    "![](./images/code_eigv.png)\n",
    "\n",
    "Then I calculated the eigenvalues for the covariance matrix.\n",
    "![](./images/eigv.png)\n",
    "* As we can see from the above image, the first 2 Eigenvalues are insignificant in comparision to the other ones. So there is a correlation among the columns.\n",
    "* We also tried to be as generous as possible and not remove the Eigenvales of orders of 10^10 and 10^12 to not loose data since the variance is still high.\n",
    "* So we left the first three attributes as it is.\n"
   ]
  }
 ],
 "metadata": {
  "kernelspec": {
   "display_name": "Python 3",
   "language": "python",
   "name": "python3"
  },
  "language_info": {
   "codemirror_mode": {
    "name": "ipython",
    "version": 3
   },
   "file_extension": ".py",
   "mimetype": "text/x-python",
   "name": "python",
   "nbconvert_exporter": "python",
   "pygments_lexer": "ipython3",
   "version": "3.7.4"
  }
 },
 "nbformat": 4,
 "nbformat_minor": 2
}
