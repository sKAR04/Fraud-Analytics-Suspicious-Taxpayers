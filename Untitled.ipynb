{
 "cells": [
  {
   "cell_type": "markdown",
   "metadata": {},
   "source": [
    "#### The objective of the current assignment is to analyze the density of the clusters and subsequently identify suspicious taxpayers."
   ]
  },
  {
   "cell_type": "markdown",
   "metadata": {},
   "source": [
    "* We started off by analyzing the dataset and found that there was a very high correlation among some of the columns.\n",
    "* So we took the first 1000 data points and "
   ]
  }
 ],
 "metadata": {
  "kernelspec": {
   "display_name": "Python 3",
   "language": "python",
   "name": "python3"
  },
  "language_info": {
   "codemirror_mode": {
    "name": "ipython",
    "version": 3
   },
   "file_extension": ".py",
   "mimetype": "text/x-python",
   "name": "python",
   "nbconvert_exporter": "python",
   "pygments_lexer": "ipython3",
   "version": "3.7.4"
  }
 },
 "nbformat": 4,
 "nbformat_minor": 2
}
